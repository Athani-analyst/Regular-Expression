{
 "cells": [
  {
   "cell_type": "markdown",
   "id": "25828bef",
   "metadata": {},
   "source": [
    "# Welcome to my jupyter \n",
    "                                    Athani"
   ]
  },
  {
   "cell_type": "markdown",
   "id": "5a059ab7",
   "metadata": {},
   "source": [
    "# Python RegEx"
   ]
  },
  {
   "cell_type": "markdown",
   "id": "ba60da41",
   "metadata": {},
   "source": [
    "A RegEx, or Regular Expression, is a sequence of characters that forms a search pattern.\n",
    "\n",
    "RegEx can be used to check if a string contains the specified search pattern."
   ]
  },
  {
   "cell_type": "code",
   "execution_count": null,
   "id": "2b56aae8",
   "metadata": {},
   "outputs": [],
   "source": [
    "https://docs.python.org/3/library/re.html#"
   ]
  },
  {
   "cell_type": "code",
   "execution_count": 1,
   "id": "27d01791",
   "metadata": {},
   "outputs": [],
   "source": [
    "import re"
   ]
  },
  {
   "cell_type": "markdown",
   "id": "9ab684db",
   "metadata": {},
   "source": [
    "## re.match ()"
   ]
  },
  {
   "cell_type": "markdown",
   "id": "919ccb39",
   "metadata": {},
   "source": [
    "re.match () function of re in Python will search the regular expression pattern and return the first occurrence.\n",
    "\n",
    "The Python RegEx Match method checks for a match only at the beginning of the string. So, if a match is found in the first line, it returns the match object."
   ]
  },
  {
   "cell_type": "code",
   "execution_count": 2,
   "id": "13fab549",
   "metadata": {
    "scrolled": true
   },
   "outputs": [
    {
     "data": {
      "text/plain": [
       "'python as java is become pyjava'"
      ]
     },
     "execution_count": 2,
     "metadata": {},
     "output_type": "execute_result"
    }
   ],
   "source": [
    "line=\"python as java is become pyjava\"\n",
    "line"
   ]
  },
  {
   "cell_type": "code",
   "execution_count": 3,
   "id": "86c30191",
   "metadata": {},
   "outputs": [
    {
     "name": "stdout",
     "output_type": "stream",
     "text": [
      "on success:  <re.Match object; span=(0, 6), match='python'>\n"
     ]
    }
   ],
   "source": [
    "r1=re.match(r\"python\",line)\n",
    "print(\"on success: \",r1)"
   ]
  },
  {
   "cell_type": "code",
   "execution_count": 4,
   "id": "cc5e69c5",
   "metadata": {},
   "outputs": [
    {
     "name": "stdout",
     "output_type": "stream",
     "text": [
      "on failure:  None\n"
     ]
    }
   ],
   "source": [
    "r1=re.match(r\"java\",line)\n",
    "print(\"on failure: \",r1)"
   ]
  },
  {
   "cell_type": "code",
   "execution_count": 5,
   "id": "17d414e9",
   "metadata": {},
   "outputs": [
    {
     "name": "stdout",
     "output_type": "stream",
     "text": [
      "match found\n"
     ]
    }
   ],
   "source": [
    "found=re.match(r\"python\",line)\n",
    "if found:\n",
    "    print(\"match found\")\n",
    "else:\n",
    "    print(\"not found\")"
   ]
  },
  {
   "cell_type": "code",
   "execution_count": 6,
   "id": "0654b46e",
   "metadata": {},
   "outputs": [
    {
     "name": "stdout",
     "output_type": "stream",
     "text": [
      "not found\n"
     ]
    }
   ],
   "source": [
    "found=re.match(r\"Manjunath Athani\",line)\n",
    "if found:\n",
    "    print(\"match found\")\n",
    "else:\n",
    "    print(\"not found\")"
   ]
  },
  {
   "cell_type": "markdown",
   "id": "d67199e9",
   "metadata": {},
   "source": [
    "## re.search()"
   ]
  },
  {
   "cell_type": "markdown",
   "id": "41dcb395",
   "metadata": {},
   "source": [
    "re.search() function returns the first match for a pattern in a string. The search happens from left to right.\n",
    "\n",
    "it will give the first occerence of that pattern\n",
    "\n",
    " "
   ]
  },
  {
   "cell_type": "code",
   "execution_count": 7,
   "id": "843b09af",
   "metadata": {},
   "outputs": [],
   "source": [
    "line=\"i love pet:cat\""
   ]
  },
  {
   "cell_type": "code",
   "execution_count": 8,
   "id": "606c2f1e",
   "metadata": {},
   "outputs": [],
   "source": [
    "var=re.match(r\"pet:\\w\\w\\w\",line) "
   ]
  },
  {
   "cell_type": "markdown",
   "id": "c1c29278",
   "metadata": {},
   "source": [
    "re.search( ) the entire string......"
   ]
  },
  {
   "cell_type": "code",
   "execution_count": 24,
   "id": "6a3d4455",
   "metadata": {},
   "outputs": [
    {
     "data": {
      "text/plain": [
       "<re.Match object; span=(8, 15), match='pet:cat'>"
      ]
     },
     "execution_count": 24,
     "metadata": {},
     "output_type": "execute_result"
    }
   ],
   "source": [
    "var=re.search(r\"pet:\\w\\w\\w\",line)\n",
    "var"
   ]
  },
  {
   "cell_type": "code",
   "execution_count": 10,
   "id": "0f1b83f8",
   "metadata": {},
   "outputs": [],
   "source": [
    "Str=\"Manjunath Athani\""
   ]
  },
  {
   "cell_type": "code",
   "execution_count": 12,
   "id": "8cc65866",
   "metadata": {},
   "outputs": [
    {
     "data": {
      "text/plain": [
       "<re.Match object; span=(1, 2), match='a'>"
      ]
     },
     "execution_count": 12,
     "metadata": {},
     "output_type": "execute_result"
    }
   ],
   "source": [
    "x=re.search(\"a\",Str)\n",
    "x"
   ]
  },
  {
   "cell_type": "code",
   "execution_count": 13,
   "id": "31f59c35",
   "metadata": {},
   "outputs": [
    {
     "data": {
      "text/plain": [
       "1"
      ]
     },
     "execution_count": 13,
     "metadata": {},
     "output_type": "execute_result"
    }
   ],
   "source": [
    "x.start() # it will give the fisrt occurence index position"
   ]
  },
  {
   "cell_type": "code",
   "execution_count": 15,
   "id": "a69d64f1",
   "metadata": {},
   "outputs": [
    {
     "data": {
      "text/plain": [
       "<re.Match object; span=(7, 9), match='th'>"
      ]
     },
     "execution_count": 15,
     "metadata": {},
     "output_type": "execute_result"
    }
   ],
   "source": [
    "x=re.search(\"th\",Str)\n",
    "x"
   ]
  },
  {
   "cell_type": "code",
   "execution_count": 17,
   "id": "afdb761e",
   "metadata": {},
   "outputs": [
    {
     "data": {
      "text/plain": [
       "(7, 9)"
      ]
     },
     "execution_count": 17,
     "metadata": {},
     "output_type": "execute_result"
    }
   ],
   "source": [
    "x.span() # it will display the complete string"
   ]
  },
  {
   "cell_type": "code",
   "execution_count": 19,
   "id": "85af50e3",
   "metadata": {},
   "outputs": [
    {
     "data": {
      "text/plain": [
       "'Manjunath Athani'"
      ]
     },
     "execution_count": 19,
     "metadata": {},
     "output_type": "execute_result"
    }
   ],
   "source": [
    "x.string"
   ]
  },
  {
   "cell_type": "markdown",
   "id": "8f6bc425",
   "metadata": {},
   "source": [
    "## re.split()"
   ]
  },
  {
   "cell_type": "markdown",
   "id": "d94f73b8",
   "metadata": {},
   "source": [
    "Python re.split() Function. re.split() function splits the given string at the occurrences of the specified pattern.\n",
    "\n",
    "The search for pattern happens from left to right."
   ]
  },
  {
   "cell_type": "markdown",
   "id": "3fee9a3e",
   "metadata": {},
   "source": [
    "#### re.split(pattern, string, maxsplit=0, flags=0)"
   ]
  },
  {
   "cell_type": "code",
   "execution_count": 26,
   "id": "f0277a41",
   "metadata": {},
   "outputs": [],
   "source": [
    "Str=\"Manjunath is a Data Scientist\""
   ]
  },
  {
   "cell_type": "code",
   "execution_count": 22,
   "id": "89a70205",
   "metadata": {},
   "outputs": [
    {
     "data": {
      "text/plain": [
       "['M', 'njun', 'th Ath', 'ni']"
      ]
     },
     "execution_count": 22,
     "metadata": {},
     "output_type": "execute_result"
    }
   ],
   "source": [
    "re.split(\"a\",Str)"
   ]
  },
  {
   "cell_type": "code",
   "execution_count": 27,
   "id": "438c13d4",
   "metadata": {},
   "outputs": [
    {
     "data": {
      "text/plain": [
       "['Manjunath', 'is', 'a', 'Data', 'Scientist']"
      ]
     },
     "execution_count": 27,
     "metadata": {},
     "output_type": "execute_result"
    }
   ],
   "source": [
    "re.split(\" \",Str)"
   ]
  },
  {
   "cell_type": "code",
   "execution_count": 28,
   "id": "43141be0",
   "metadata": {},
   "outputs": [
    {
     "data": {
      "text/plain": [
       "['Manjunath', 'is a Data Scientist']"
      ]
     },
     "execution_count": 28,
     "metadata": {},
     "output_type": "execute_result"
    }
   ],
   "source": [
    "re.split(\" \",Str,1)"
   ]
  },
  {
   "cell_type": "code",
   "execution_count": 30,
   "id": "96f5d31f",
   "metadata": {},
   "outputs": [
    {
     "data": {
      "text/plain": [
       "['Manjunath', 'is', 'a Data Scientist']"
      ]
     },
     "execution_count": 30,
     "metadata": {},
     "output_type": "execute_result"
    }
   ],
   "source": [
    "re.split(\" \",Str,2)"
   ]
  },
  {
   "cell_type": "markdown",
   "id": "825b991f",
   "metadata": {},
   "source": [
    "## re.sub()"
   ]
  },
  {
   "cell_type": "markdown",
   "id": "9bb10402",
   "metadata": {},
   "source": [
    "In Python, the “ re.sub () ” method of the “ re ” module is used to replace the strings using regular expressions. \n",
    "\n",
    "The “ re.sub () ” method replaces multiple patterns with some specific string and also limits the replacement by taking integer values in the “ count ” parameter."
   ]
  },
  {
   "cell_type": "code",
   "execution_count": 33,
   "id": "a715cfcf",
   "metadata": {
    "scrolled": true
   },
   "outputs": [
    {
     "data": {
      "text/plain": [
       "'Mknjunath is a Data Scientist'"
      ]
     },
     "execution_count": 33,
     "metadata": {},
     "output_type": "execute_result"
    }
   ],
   "source": [
    "Str.replace(\"a\",\"k\",1)"
   ]
  },
  {
   "cell_type": "code",
   "execution_count": 36,
   "id": "d37d1159",
   "metadata": {},
   "outputs": [
    {
     "data": {
      "text/plain": [
       "'Mknjunath is a Data Scientist'"
      ]
     },
     "execution_count": 36,
     "metadata": {},
     "output_type": "execute_result"
    }
   ],
   "source": [
    "re.sub(\"a\",\"k\",Str,1)"
   ]
  },
  {
   "cell_type": "markdown",
   "id": "4334038a",
   "metadata": {},
   "source": [
    "## re.findall()"
   ]
  },
  {
   "cell_type": "markdown",
   "id": "07bccba4",
   "metadata": {},
   "source": [
    "#### The findall() function returns a list containing all matches."
   ]
  },
  {
   "cell_type": "code",
   "execution_count": 27,
   "id": "e7fd40fe",
   "metadata": {},
   "outputs": [
    {
     "name": "stdout",
     "output_type": "stream",
     "text": [
      "['ai', 'ai']\n"
     ]
    }
   ],
   "source": [
    "txt = \"The rain in Spain\"\n",
    "x = re.findall(\"ai\", txt)\n",
    "print(x)"
   ]
  },
  {
   "cell_type": "code",
   "execution_count": 28,
   "id": "10910b4f",
   "metadata": {},
   "outputs": [
    {
     "name": "stdout",
     "output_type": "stream",
     "text": [
      "[]\n"
     ]
    }
   ],
   "source": [
    "import re\n",
    "\n",
    "txt = \"The rain in Spain\"\n",
    "x = re.findall(\"Portugal\", txt)\n",
    "print(x)"
   ]
  },
  {
   "cell_type": "markdown",
   "id": "9769b552",
   "metadata": {},
   "source": [
    "Return an empty list if no match was found:"
   ]
  },
  {
   "cell_type": "markdown",
   "id": "7c7ccf59",
   "metadata": {},
   "source": [
    "## Metacharacters\n",
    "Metacharacters are characters with a special meaning:"
   ]
  },
  {
   "cell_type": "code",
   "execution_count": 40,
   "id": "acdd0e5b",
   "metadata": {},
   "outputs": [],
   "source": [
    "import re"
   ]
  },
  {
   "cell_type": "markdown",
   "id": "38f6012f",
   "metadata": {},
   "source": [
    "### [ ]\tA set of characters"
   ]
  },
  {
   "cell_type": "code",
   "execution_count": 41,
   "id": "eb6fbcd0",
   "metadata": {},
   "outputs": [],
   "source": [
    "Str=\"Example for Meta Characters in Regular Expression\""
   ]
  },
  {
   "cell_type": "code",
   "execution_count": 45,
   "id": "9486538f",
   "metadata": {},
   "outputs": [
    {
     "data": {
      "text/plain": [
       "['a', 'a', 'a', 'a', 'a']"
      ]
     },
     "execution_count": 45,
     "metadata": {},
     "output_type": "execute_result"
    }
   ],
   "source": [
    "re.findall('[a]',Str)"
   ]
  },
  {
   "cell_type": "code",
   "execution_count": 47,
   "id": "859f11f3",
   "metadata": {},
   "outputs": [
    {
     "data": {
      "text/plain": [
       "['i', 'n', 'i', 'n']"
      ]
     },
     "execution_count": 47,
     "metadata": {},
     "output_type": "execute_result"
    }
   ],
   "source": [
    "re.findall(\"['in']\",Str)\n",
    "\n",
    "# here the \"in\" not taking as word, it consdring as characters "
   ]
  },
  {
   "cell_type": "markdown",
   "id": "cf9dc2ed",
   "metadata": {},
   "source": [
    "### ^\tStarts with"
   ]
  },
  {
   "cell_type": "code",
   "execution_count": 48,
   "id": "bb3d8ada",
   "metadata": {},
   "outputs": [
    {
     "data": {
      "text/plain": [
       "'Example for Meta Characters in Regular Expression'"
      ]
     },
     "execution_count": 48,
     "metadata": {},
     "output_type": "execute_result"
    }
   ],
   "source": [
    "Str"
   ]
  },
  {
   "cell_type": "code",
   "execution_count": 51,
   "id": "cf3fc26e",
   "metadata": {},
   "outputs": [
    {
     "data": {
      "text/plain": [
       "['Example']"
      ]
     },
     "execution_count": 51,
     "metadata": {},
     "output_type": "execute_result"
    }
   ],
   "source": [
    "re.findall('^Example',Str)"
   ]
  },
  {
   "cell_type": "code",
   "execution_count": 52,
   "id": "dab23509",
   "metadata": {},
   "outputs": [
    {
     "data": {
      "text/plain": [
       "[]"
      ]
     },
     "execution_count": 52,
     "metadata": {},
     "output_type": "execute_result"
    }
   ],
   "source": [
    "re.findall('^ Meta',Str)"
   ]
  },
  {
   "cell_type": "markdown",
   "id": "5e4a286a",
   "metadata": {},
   "source": [
    "### $\tEnds with"
   ]
  },
  {
   "cell_type": "code",
   "execution_count": 54,
   "id": "23bcc033",
   "metadata": {},
   "outputs": [
    {
     "data": {
      "text/plain": [
       "['ssion']"
      ]
     },
     "execution_count": 54,
     "metadata": {},
     "output_type": "execute_result"
    }
   ],
   "source": [
    "re.findall('ssion$',Str)"
   ]
  },
  {
   "cell_type": "markdown",
   "id": "99a63566",
   "metadata": {},
   "source": [
    "####       .\t      Any character (except newline character)"
   ]
  },
  {
   "cell_type": "code",
   "execution_count": 55,
   "id": "f27ce5f3",
   "metadata": {},
   "outputs": [
    {
     "data": {
      "text/plain": [
       "'Example for Meta Characters in Regular Expression'"
      ]
     },
     "execution_count": 55,
     "metadata": {},
     "output_type": "execute_result"
    }
   ],
   "source": [
    "Str"
   ]
  },
  {
   "cell_type": "code",
   "execution_count": 60,
   "id": "d627b3d8",
   "metadata": {},
   "outputs": [
    {
     "data": {
      "text/plain": [
       "['Example']"
      ]
     },
     "execution_count": 60,
     "metadata": {},
     "output_type": "execute_result"
    }
   ],
   "source": [
    "re.findall('Exam...',Str) # it will check the the 3 char after Exam "
   ]
  },
  {
   "cell_type": "code",
   "execution_count": 68,
   "id": "e1b107f6",
   "metadata": {},
   "outputs": [
    {
     "data": {
      "text/plain": [
       "['Example for']"
      ]
     },
     "execution_count": 68,
     "metadata": {},
     "output_type": "execute_result"
    }
   ],
   "source": [
    "re.findall('........for',Str) # it will check the the 3 char after Exam "
   ]
  },
  {
   "cell_type": "markdown",
   "id": "f7cf7f42",
   "metadata": {},
   "source": [
    "### *\tZero or more occurrences"
   ]
  },
  {
   "cell_type": "code",
   "execution_count": 70,
   "id": "5d2b3a1f",
   "metadata": {},
   "outputs": [],
   "source": [
    "Str=\"friend in need is a friend in deed\""
   ]
  },
  {
   "cell_type": "code",
   "execution_count": 71,
   "id": "aaf61ac8",
   "metadata": {},
   "outputs": [
    {
     "data": {
      "text/plain": [
       "['',\n",
       " '',\n",
       " '',\n",
       " 'e',\n",
       " '',\n",
       " '',\n",
       " '',\n",
       " '',\n",
       " '',\n",
       " '',\n",
       " '',\n",
       " 'ee',\n",
       " '',\n",
       " '',\n",
       " '',\n",
       " '',\n",
       " '',\n",
       " '',\n",
       " '',\n",
       " '',\n",
       " '',\n",
       " '',\n",
       " 'e',\n",
       " '',\n",
       " '',\n",
       " '',\n",
       " '',\n",
       " '',\n",
       " '',\n",
       " '',\n",
       " 'ee',\n",
       " '',\n",
       " '']"
      ]
     },
     "execution_count": 71,
     "metadata": {},
     "output_type": "execute_result"
    }
   ],
   "source": [
    "re.findall(\"e*\",Str)"
   ]
  },
  {
   "cell_type": "code",
   "execution_count": 76,
   "id": "a323c7c4",
   "metadata": {},
   "outputs": [
    {
     "data": {
      "text/plain": [
       "['e', 'ee', 'e', 'ee']"
      ]
     },
     "execution_count": 76,
     "metadata": {},
     "output_type": "execute_result"
    }
   ],
   "source": [
    "re.findall(\"ee*\",Str)"
   ]
  },
  {
   "cell_type": "code",
   "execution_count": 81,
   "id": "96a37eb0",
   "metadata": {},
   "outputs": [
    {
     "data": {
      "text/plain": [
       "['ie', 'i', 'i', 'ie', 'i']"
      ]
     },
     "execution_count": 81,
     "metadata": {},
     "output_type": "execute_result"
    }
   ],
   "source": [
    "re.findall('ie*',Str)"
   ]
  },
  {
   "cell_type": "markdown",
   "id": "f57e7445",
   "metadata": {},
   "source": [
    "### +\tOne or more occurrences"
   ]
  },
  {
   "cell_type": "code",
   "execution_count": 79,
   "id": "9a7045b1",
   "metadata": {
    "scrolled": true
   },
   "outputs": [
    {
     "data": {
      "text/plain": [
       "['ee', 'ee']"
      ]
     },
     "execution_count": 79,
     "metadata": {},
     "output_type": "execute_result"
    }
   ],
   "source": [
    "re.findall(\"ee+\",Str)"
   ]
  },
  {
   "cell_type": "markdown",
   "id": "baf57226",
   "metadata": {},
   "source": [
    "### { }\tExactly the specified number of occurrences"
   ]
  },
  {
   "cell_type": "code",
   "execution_count": 86,
   "id": "95f38944",
   "metadata": {},
   "outputs": [
    {
     "data": {
      "text/plain": [
       "'friend in need is a friend in deed'"
      ]
     },
     "execution_count": 86,
     "metadata": {},
     "output_type": "execute_result"
    }
   ],
   "source": [
    "Str"
   ]
  },
  {
   "cell_type": "code",
   "execution_count": 87,
   "id": "0f556ebb",
   "metadata": {},
   "outputs": [
    {
     "data": {
      "text/plain": [
       "['ee', 'ee']"
      ]
     },
     "execution_count": 87,
     "metadata": {},
     "output_type": "execute_result"
    }
   ],
   "source": [
    "re.findall(\"e{2}\",Str)"
   ]
  },
  {
   "cell_type": "markdown",
   "id": "88dd9b52",
   "metadata": {},
   "source": [
    "## Special Sequences\n",
    "\n",
    "A special sequence is a \\ followed by one of the characters in the list below, and has a special meaning:"
   ]
  },
  {
   "cell_type": "markdown",
   "id": "e966d987",
   "metadata": {},
   "source": [
    "### \\s\tReturns a match where the string contains a white space character"
   ]
  },
  {
   "cell_type": "code",
   "execution_count": 88,
   "id": "4fb29428",
   "metadata": {},
   "outputs": [
    {
     "data": {
      "text/plain": [
       "'friend in need is a friend in deed'"
      ]
     },
     "execution_count": 88,
     "metadata": {},
     "output_type": "execute_result"
    }
   ],
   "source": [
    "Str"
   ]
  },
  {
   "cell_type": "code",
   "execution_count": 89,
   "id": "57c023ec",
   "metadata": {},
   "outputs": [
    {
     "data": {
      "text/plain": [
       "[' ', ' ', ' ', ' ', ' ', ' ', ' ']"
      ]
     },
     "execution_count": 89,
     "metadata": {},
     "output_type": "execute_result"
    }
   ],
   "source": [
    "re.findall('\\s',Str)"
   ]
  },
  {
   "cell_type": "code",
   "execution_count": 90,
   "id": "604aa2de",
   "metadata": {},
   "outputs": [
    {
     "data": {
      "text/plain": [
       "7"
      ]
     },
     "execution_count": 90,
     "metadata": {},
     "output_type": "execute_result"
    }
   ],
   "source": [
    "len(re.findall('\\s',Str))"
   ]
  },
  {
   "cell_type": "markdown",
   "id": "584b991a",
   "metadata": {},
   "source": [
    "### \\S\tReturns a match where the string DOES NOT contain a white space character"
   ]
  },
  {
   "cell_type": "code",
   "execution_count": 93,
   "id": "cc3c9c9b",
   "metadata": {},
   "outputs": [
    {
     "data": {
      "text/plain": [
       "['f',\n",
       " 'r',\n",
       " 'i',\n",
       " 'e',\n",
       " 'n',\n",
       " 'd',\n",
       " 'i',\n",
       " 'n',\n",
       " 'n',\n",
       " 'e',\n",
       " 'e',\n",
       " 'd',\n",
       " 'i',\n",
       " 's',\n",
       " 'a',\n",
       " 'f',\n",
       " 'r',\n",
       " 'i',\n",
       " 'e',\n",
       " 'n',\n",
       " 'd',\n",
       " 'i',\n",
       " 'n',\n",
       " 'd',\n",
       " 'e',\n",
       " 'e',\n",
       " 'd']"
      ]
     },
     "execution_count": 93,
     "metadata": {},
     "output_type": "execute_result"
    }
   ],
   "source": [
    "re.findall('\\S',Str)\n"
   ]
  },
  {
   "cell_type": "code",
   "execution_count": 94,
   "id": "75fe9814",
   "metadata": {},
   "outputs": [
    {
     "data": {
      "text/plain": [
       "7"
      ]
     },
     "execution_count": 94,
     "metadata": {},
     "output_type": "execute_result"
    }
   ],
   "source": [
    "len(re.findall('\\s',Str))"
   ]
  },
  {
   "cell_type": "markdown",
   "id": "a085b74f",
   "metadata": {},
   "source": [
    "### \\d\tReturns a match where the string contains digits (numbers from 0-9)"
   ]
  },
  {
   "cell_type": "code",
   "execution_count": 100,
   "id": "6e6e4e9b",
   "metadata": {},
   "outputs": [
    {
     "data": {
      "text/plain": [
       "'12345 friend in need is a friend in deed'"
      ]
     },
     "execution_count": 100,
     "metadata": {},
     "output_type": "execute_result"
    }
   ],
   "source": [
    "Str='12345 friend in need is a friend in deed'\n",
    "Str"
   ]
  },
  {
   "cell_type": "code",
   "execution_count": 102,
   "id": "333a157c",
   "metadata": {},
   "outputs": [
    {
     "data": {
      "text/plain": [
       "['1', '2', '3', '4', '5']"
      ]
     },
     "execution_count": 102,
     "metadata": {},
     "output_type": "execute_result"
    }
   ],
   "source": [
    "re.findall('\\d',Str)"
   ]
  },
  {
   "cell_type": "markdown",
   "id": "957daa5a",
   "metadata": {},
   "source": [
    "### \\D\tReturns a match where the string DOES NOT contain digits"
   ]
  },
  {
   "cell_type": "code",
   "execution_count": 104,
   "id": "764eab2f",
   "metadata": {},
   "outputs": [
    {
     "data": {
      "text/plain": [
       "[' ',\n",
       " 'f',\n",
       " 'r',\n",
       " 'i',\n",
       " 'e',\n",
       " 'n',\n",
       " 'd',\n",
       " ' ',\n",
       " 'i',\n",
       " 'n',\n",
       " ' ',\n",
       " 'n',\n",
       " 'e',\n",
       " 'e',\n",
       " 'd',\n",
       " ' ',\n",
       " 'i',\n",
       " 's',\n",
       " ' ',\n",
       " 'a',\n",
       " ' ',\n",
       " 'f',\n",
       " 'r',\n",
       " 'i',\n",
       " 'e',\n",
       " 'n',\n",
       " 'd',\n",
       " ' ',\n",
       " 'i',\n",
       " 'n',\n",
       " ' ',\n",
       " 'd',\n",
       " 'e',\n",
       " 'e',\n",
       " 'd']"
      ]
     },
     "execution_count": 104,
     "metadata": {},
     "output_type": "execute_result"
    }
   ],
   "source": [
    "re.findall(\"\\D\",Str)"
   ]
  },
  {
   "cell_type": "markdown",
   "id": "2ce6ae51",
   "metadata": {},
   "source": [
    "### \\w\tReturns a match where the string contains any word characters (characters from a to Z, digits from 0-9, and the underscore _ character)"
   ]
  },
  {
   "cell_type": "code",
   "execution_count": 105,
   "id": "6edc1775",
   "metadata": {},
   "outputs": [
    {
     "data": {
      "text/plain": [
       "'12345 friend in need is a friend in deed'"
      ]
     },
     "execution_count": 105,
     "metadata": {},
     "output_type": "execute_result"
    }
   ],
   "source": [
    "Str"
   ]
  },
  {
   "cell_type": "code",
   "execution_count": 106,
   "id": "93341290",
   "metadata": {},
   "outputs": [
    {
     "data": {
      "text/plain": [
       "['1',\n",
       " '2',\n",
       " '3',\n",
       " '4',\n",
       " '5',\n",
       " 'f',\n",
       " 'r',\n",
       " 'i',\n",
       " 'e',\n",
       " 'n',\n",
       " 'd',\n",
       " 'i',\n",
       " 'n',\n",
       " 'n',\n",
       " 'e',\n",
       " 'e',\n",
       " 'd',\n",
       " 'i',\n",
       " 's',\n",
       " 'a',\n",
       " 'f',\n",
       " 'r',\n",
       " 'i',\n",
       " 'e',\n",
       " 'n',\n",
       " 'd',\n",
       " 'i',\n",
       " 'n',\n",
       " 'd',\n",
       " 'e',\n",
       " 'e',\n",
       " 'd']"
      ]
     },
     "execution_count": 106,
     "metadata": {},
     "output_type": "execute_result"
    }
   ],
   "source": [
    "re.findall('\\w',Str)"
   ]
  },
  {
   "cell_type": "markdown",
   "id": "194027fe",
   "metadata": {},
   "source": [
    "### \\W\tReturns a match where the string DOES NOT contain any word characters"
   ]
  },
  {
   "cell_type": "code",
   "execution_count": 107,
   "id": "d0586bf2",
   "metadata": {},
   "outputs": [
    {
     "data": {
      "text/plain": [
       "'12345 friend in need is a friend in deed'"
      ]
     },
     "execution_count": 107,
     "metadata": {},
     "output_type": "execute_result"
    }
   ],
   "source": [
    "Str"
   ]
  },
  {
   "cell_type": "code",
   "execution_count": 108,
   "id": "84a01b7b",
   "metadata": {},
   "outputs": [
    {
     "data": {
      "text/plain": [
       "[' ', ' ', ' ', ' ', ' ', ' ', ' ', ' ']"
      ]
     },
     "execution_count": 108,
     "metadata": {},
     "output_type": "execute_result"
    }
   ],
   "source": [
    "re.findall(\"\\W\",Str)"
   ]
  },
  {
   "cell_type": "code",
   "execution_count": null,
   "id": "74218a8d",
   "metadata": {},
   "outputs": [],
   "source": []
  },
  {
   "cell_type": "markdown",
   "id": "4657e26c",
   "metadata": {},
   "source": [
    "## Sets\n",
    "A set is a set of characters inside a pair of square brackets [] with a special meaning:"
   ]
  },
  {
   "cell_type": "code",
   "execution_count": 109,
   "id": "5a0d28d0",
   "metadata": {},
   "outputs": [
    {
     "data": {
      "text/plain": [
       "'12345 friend in need is a friend in deed'"
      ]
     },
     "execution_count": 109,
     "metadata": {},
     "output_type": "execute_result"
    }
   ],
   "source": [
    "Str"
   ]
  },
  {
   "cell_type": "code",
   "execution_count": 115,
   "id": "07d0dea5",
   "metadata": {},
   "outputs": [
    {
     "data": {
      "text/plain": [
       "['1', '2', '3', '4', '5']"
      ]
     },
     "execution_count": 115,
     "metadata": {},
     "output_type": "execute_result"
    }
   ],
   "source": [
    "re.findall('[12345]',Str)"
   ]
  },
  {
   "cell_type": "code",
   "execution_count": 116,
   "id": "5b54690f",
   "metadata": {},
   "outputs": [
    {
     "data": {
      "text/plain": [
       "['1', '2', '3', '4', '5']"
      ]
     },
     "execution_count": 116,
     "metadata": {},
     "output_type": "execute_result"
    }
   ],
   "source": [
    "re.findall('[12345678]',Str)"
   ]
  },
  {
   "cell_type": "markdown",
   "id": "feb82646",
   "metadata": {},
   "source": [
    "### [^arn]\tReturns a match for any character EXCEPT a, r, and n"
   ]
  },
  {
   "cell_type": "code",
   "execution_count": 121,
   "id": "0191ef9b",
   "metadata": {},
   "outputs": [
    {
     "data": {
      "text/plain": [
       "[' ',\n",
       " 'f',\n",
       " 'r',\n",
       " 'i',\n",
       " 'e',\n",
       " 'n',\n",
       " 'd',\n",
       " ' ',\n",
       " 'i',\n",
       " 'n',\n",
       " ' ',\n",
       " 'n',\n",
       " 'e',\n",
       " 'e',\n",
       " 'd',\n",
       " ' ',\n",
       " 'i',\n",
       " 's',\n",
       " ' ',\n",
       " 'a',\n",
       " ' ',\n",
       " 'f',\n",
       " 'r',\n",
       " 'i',\n",
       " 'e',\n",
       " 'n',\n",
       " 'd',\n",
       " ' ',\n",
       " 'i',\n",
       " 'n',\n",
       " ' ',\n",
       " 'd',\n",
       " 'e',\n",
       " 'e',\n",
       " 'd']"
      ]
     },
     "execution_count": 121,
     "metadata": {},
     "output_type": "execute_result"
    }
   ],
   "source": [
    "re.findall('[^12345]',Str)"
   ]
  },
  {
   "cell_type": "markdown",
   "id": "78cb66dc",
   "metadata": {},
   "source": [
    "### [0-9]\tReturns a match for any digit between 0 and 9"
   ]
  },
  {
   "cell_type": "code",
   "execution_count": 122,
   "id": "76f70667",
   "metadata": {},
   "outputs": [
    {
     "data": {
      "text/plain": [
       "['1', '2', '3', '4', '5']"
      ]
     },
     "execution_count": 122,
     "metadata": {},
     "output_type": "execute_result"
    }
   ],
   "source": [
    "re.findall('[0-9]',Str)"
   ]
  },
  {
   "cell_type": "markdown",
   "id": "66390a35",
   "metadata": {},
   "source": [
    "### [0-5][0-9]\tReturns a match for any two-digit numbers from 00 and 59"
   ]
  },
  {
   "cell_type": "code",
   "execution_count": 129,
   "id": "91483a15",
   "metadata": {},
   "outputs": [
    {
     "data": {
      "text/plain": [
       "'12345 friend in need is a friend in deed'"
      ]
     },
     "execution_count": 129,
     "metadata": {},
     "output_type": "execute_result"
    }
   ],
   "source": [
    "Str"
   ]
  },
  {
   "cell_type": "code",
   "execution_count": 128,
   "id": "314d4b64",
   "metadata": {},
   "outputs": [
    {
     "data": {
      "text/plain": [
       "[]"
      ]
     },
     "execution_count": 128,
     "metadata": {},
     "output_type": "execute_result"
    }
   ],
   "source": [
    "re.findall('[0-9] [0-9] [0-9]',Str)"
   ]
  },
  {
   "cell_type": "code",
   "execution_count": null,
   "id": "c5079903",
   "metadata": {},
   "outputs": [],
   "source": [
    "Source: https://www.w3schools.com/python/python_regex.asp"
   ]
  }
 ],
 "metadata": {
  "kernelspec": {
   "display_name": "Python 3 (ipykernel)",
   "language": "python",
   "name": "python3"
  },
  "language_info": {
   "codemirror_mode": {
    "name": "ipython",
    "version": 3
   },
   "file_extension": ".py",
   "mimetype": "text/x-python",
   "name": "python",
   "nbconvert_exporter": "python",
   "pygments_lexer": "ipython3",
   "version": "3.9.12"
  }
 },
 "nbformat": 4,
 "nbformat_minor": 5
}
